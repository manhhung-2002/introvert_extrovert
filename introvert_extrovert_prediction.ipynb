{
 "cells": [
  {
   "cell_type": "code",
   "execution_count": 2,
   "id": "38e27c32",
   "metadata": {},
   "outputs": [],
   "source": [
    "import pandas as pd\n",
    "import numpy as np\n",
    "import seaborn as sns\n",
    "import matplotlib.pyplot as plt\n",
    "import joblib\n",
    "\n",
    "from sklearn.preprocessing import StandardScaler\n",
    "from sklearn.model_selection import train_test_split\n",
    "from sklearn.neighbors import KNeighborsClassifier\n",
    "from sklearn.tree import DecisionTreeClassifier\n",
    "from sklearn.linear_model import LogisticRegression\n",
    "from sklearn.metrics import f1_score, precision_score, recall_score, classification_report"
   ]
  },
  {
   "cell_type": "code",
   "execution_count": 3,
   "id": "e2be09a6",
   "metadata": {},
   "outputs": [],
   "source": [
    "df=pd.read_csv('personality_dataset.csv')"
   ]
  },
  {
   "cell_type": "code",
   "execution_count": 4,
   "id": "e8afad23",
   "metadata": {},
   "outputs": [
    {
     "data": {
      "text/html": [
       "<div>\n",
       "<style scoped>\n",
       "    .dataframe tbody tr th:only-of-type {\n",
       "        vertical-align: middle;\n",
       "    }\n",
       "\n",
       "    .dataframe tbody tr th {\n",
       "        vertical-align: top;\n",
       "    }\n",
       "\n",
       "    .dataframe thead th {\n",
       "        text-align: right;\n",
       "    }\n",
       "</style>\n",
       "<table border=\"1\" class=\"dataframe\">\n",
       "  <thead>\n",
       "    <tr style=\"text-align: right;\">\n",
       "      <th></th>\n",
       "      <th>Time_spent_Alone</th>\n",
       "      <th>Stage_fear</th>\n",
       "      <th>Social_event_attendance</th>\n",
       "      <th>Going_outside</th>\n",
       "      <th>Drained_after_socializing</th>\n",
       "      <th>Friends_circle_size</th>\n",
       "      <th>Post_frequency</th>\n",
       "      <th>Personality</th>\n",
       "    </tr>\n",
       "  </thead>\n",
       "  <tbody>\n",
       "    <tr>\n",
       "      <th>0</th>\n",
       "      <td>4.0</td>\n",
       "      <td>No</td>\n",
       "      <td>4.0</td>\n",
       "      <td>6.0</td>\n",
       "      <td>No</td>\n",
       "      <td>13.0</td>\n",
       "      <td>5.0</td>\n",
       "      <td>Extrovert</td>\n",
       "    </tr>\n",
       "    <tr>\n",
       "      <th>1</th>\n",
       "      <td>9.0</td>\n",
       "      <td>Yes</td>\n",
       "      <td>0.0</td>\n",
       "      <td>0.0</td>\n",
       "      <td>Yes</td>\n",
       "      <td>0.0</td>\n",
       "      <td>3.0</td>\n",
       "      <td>Introvert</td>\n",
       "    </tr>\n",
       "    <tr>\n",
       "      <th>2</th>\n",
       "      <td>9.0</td>\n",
       "      <td>Yes</td>\n",
       "      <td>1.0</td>\n",
       "      <td>2.0</td>\n",
       "      <td>Yes</td>\n",
       "      <td>5.0</td>\n",
       "      <td>2.0</td>\n",
       "      <td>Introvert</td>\n",
       "    </tr>\n",
       "    <tr>\n",
       "      <th>3</th>\n",
       "      <td>0.0</td>\n",
       "      <td>No</td>\n",
       "      <td>6.0</td>\n",
       "      <td>7.0</td>\n",
       "      <td>No</td>\n",
       "      <td>14.0</td>\n",
       "      <td>8.0</td>\n",
       "      <td>Extrovert</td>\n",
       "    </tr>\n",
       "    <tr>\n",
       "      <th>4</th>\n",
       "      <td>3.0</td>\n",
       "      <td>No</td>\n",
       "      <td>9.0</td>\n",
       "      <td>4.0</td>\n",
       "      <td>No</td>\n",
       "      <td>8.0</td>\n",
       "      <td>5.0</td>\n",
       "      <td>Extrovert</td>\n",
       "    </tr>\n",
       "    <tr>\n",
       "      <th>5</th>\n",
       "      <td>1.0</td>\n",
       "      <td>No</td>\n",
       "      <td>7.0</td>\n",
       "      <td>5.0</td>\n",
       "      <td>No</td>\n",
       "      <td>6.0</td>\n",
       "      <td>6.0</td>\n",
       "      <td>Extrovert</td>\n",
       "    </tr>\n",
       "    <tr>\n",
       "      <th>6</th>\n",
       "      <td>4.0</td>\n",
       "      <td>No</td>\n",
       "      <td>9.0</td>\n",
       "      <td>NaN</td>\n",
       "      <td>No</td>\n",
       "      <td>7.0</td>\n",
       "      <td>7.0</td>\n",
       "      <td>Extrovert</td>\n",
       "    </tr>\n",
       "    <tr>\n",
       "      <th>7</th>\n",
       "      <td>2.0</td>\n",
       "      <td>No</td>\n",
       "      <td>8.0</td>\n",
       "      <td>4.0</td>\n",
       "      <td>No</td>\n",
       "      <td>7.0</td>\n",
       "      <td>8.0</td>\n",
       "      <td>Extrovert</td>\n",
       "    </tr>\n",
       "    <tr>\n",
       "      <th>8</th>\n",
       "      <td>10.0</td>\n",
       "      <td>Yes</td>\n",
       "      <td>1.0</td>\n",
       "      <td>3.0</td>\n",
       "      <td>Yes</td>\n",
       "      <td>0.0</td>\n",
       "      <td>3.0</td>\n",
       "      <td>Introvert</td>\n",
       "    </tr>\n",
       "    <tr>\n",
       "      <th>9</th>\n",
       "      <td>0.0</td>\n",
       "      <td>No</td>\n",
       "      <td>8.0</td>\n",
       "      <td>6.0</td>\n",
       "      <td>No</td>\n",
       "      <td>13.0</td>\n",
       "      <td>8.0</td>\n",
       "      <td>Extrovert</td>\n",
       "    </tr>\n",
       "  </tbody>\n",
       "</table>\n",
       "</div>"
      ],
      "text/plain": [
       "   Time_spent_Alone Stage_fear  Social_event_attendance  Going_outside  \\\n",
       "0               4.0         No                      4.0            6.0   \n",
       "1               9.0        Yes                      0.0            0.0   \n",
       "2               9.0        Yes                      1.0            2.0   \n",
       "3               0.0         No                      6.0            7.0   \n",
       "4               3.0         No                      9.0            4.0   \n",
       "5               1.0         No                      7.0            5.0   \n",
       "6               4.0         No                      9.0            NaN   \n",
       "7               2.0         No                      8.0            4.0   \n",
       "8              10.0        Yes                      1.0            3.0   \n",
       "9               0.0         No                      8.0            6.0   \n",
       "\n",
       "  Drained_after_socializing  Friends_circle_size  Post_frequency Personality  \n",
       "0                        No                 13.0             5.0   Extrovert  \n",
       "1                       Yes                  0.0             3.0   Introvert  \n",
       "2                       Yes                  5.0             2.0   Introvert  \n",
       "3                        No                 14.0             8.0   Extrovert  \n",
       "4                        No                  8.0             5.0   Extrovert  \n",
       "5                        No                  6.0             6.0   Extrovert  \n",
       "6                        No                  7.0             7.0   Extrovert  \n",
       "7                        No                  7.0             8.0   Extrovert  \n",
       "8                       Yes                  0.0             3.0   Introvert  \n",
       "9                        No                 13.0             8.0   Extrovert  "
      ]
     },
     "execution_count": 4,
     "metadata": {},
     "output_type": "execute_result"
    }
   ],
   "source": [
    "df.head(10)"
   ]
  },
  {
   "cell_type": "code",
   "execution_count": 4,
   "id": "3626f7a5",
   "metadata": {},
   "outputs": [
    {
     "data": {
      "text/plain": [
       "(2900, 8)"
      ]
     },
     "execution_count": 4,
     "metadata": {},
     "output_type": "execute_result"
    }
   ],
   "source": [
    "df.shape"
   ]
  },
  {
   "cell_type": "code",
   "execution_count": 5,
   "id": "1b40fc2b",
   "metadata": {},
   "outputs": [
    {
     "name": "stdout",
     "output_type": "stream",
     "text": [
      "<class 'pandas.core.frame.DataFrame'>\n",
      "RangeIndex: 2900 entries, 0 to 2899\n",
      "Data columns (total 8 columns):\n",
      " #   Column                     Non-Null Count  Dtype  \n",
      "---  ------                     --------------  -----  \n",
      " 0   Time_spent_Alone           2837 non-null   float64\n",
      " 1   Stage_fear                 2827 non-null   object \n",
      " 2   Social_event_attendance    2838 non-null   float64\n",
      " 3   Going_outside              2834 non-null   float64\n",
      " 4   Drained_after_socializing  2848 non-null   object \n",
      " 5   Friends_circle_size        2823 non-null   float64\n",
      " 6   Post_frequency             2835 non-null   float64\n",
      " 7   Personality                2900 non-null   object \n",
      "dtypes: float64(5), object(3)\n",
      "memory usage: 181.4+ KB\n"
     ]
    }
   ],
   "source": [
    "df.info()"
   ]
  },
  {
   "cell_type": "code",
   "execution_count": 6,
   "id": "e1b1e9fa",
   "metadata": {},
   "outputs": [
    {
     "data": {
      "text/plain": [
       "Time_spent_Alone             63\n",
       "Stage_fear                   73\n",
       "Social_event_attendance      62\n",
       "Going_outside                66\n",
       "Drained_after_socializing    52\n",
       "Friends_circle_size          77\n",
       "Post_frequency               65\n",
       "Personality                   0\n",
       "dtype: int64"
      ]
     },
     "execution_count": 6,
     "metadata": {},
     "output_type": "execute_result"
    }
   ],
   "source": [
    "df.isnull().sum()"
   ]
  },
  {
   "cell_type": "code",
   "execution_count": 10,
   "id": "4239a226",
   "metadata": {},
   "outputs": [],
   "source": [
    "for col in df.select_dtypes(include='number').columns:\n",
    "    df[col].fillna(df[col].mean(), inplace=True)"
   ]
  },
  {
   "cell_type": "code",
   "execution_count": 11,
   "id": "66bb9ea1",
   "metadata": {},
   "outputs": [],
   "source": [
    "for col in df.select_dtypes(include='object').columns:\n",
    "    df[col].fillna(df[col].mode()[0], inplace=True)"
   ]
  },
  {
   "cell_type": "code",
   "execution_count": 16,
   "id": "2b431783",
   "metadata": {},
   "outputs": [],
   "source": [
    "df.isnull().sum()\n",
    "df['Stage_fear'] = df['Stage_fear'].map({'Yes': 1, 'No': 0})\n",
    "df['Drained_after_socializing'] = df['Drained_after_socializing'].map({'Yes': 1, 'No': 0})\n"
   ]
  },
  {
   "cell_type": "code",
   "execution_count": 10,
   "id": "aa90d2a8",
   "metadata": {},
   "outputs": [
    {
     "data": {
      "text/html": [
       "<div>\n",
       "<style scoped>\n",
       "    .dataframe tbody tr th:only-of-type {\n",
       "        vertical-align: middle;\n",
       "    }\n",
       "\n",
       "    .dataframe tbody tr th {\n",
       "        vertical-align: top;\n",
       "    }\n",
       "\n",
       "    .dataframe thead th {\n",
       "        text-align: right;\n",
       "    }\n",
       "</style>\n",
       "<table border=\"1\" class=\"dataframe\">\n",
       "  <thead>\n",
       "    <tr style=\"text-align: right;\">\n",
       "      <th></th>\n",
       "      <th>Time_spent_Alone</th>\n",
       "      <th>Stage_fear</th>\n",
       "      <th>Social_event_attendance</th>\n",
       "      <th>Going_outside</th>\n",
       "      <th>Drained_after_socializing</th>\n",
       "      <th>Friends_circle_size</th>\n",
       "      <th>Post_frequency</th>\n",
       "      <th>Personality</th>\n",
       "    </tr>\n",
       "  </thead>\n",
       "  <tbody>\n",
       "    <tr>\n",
       "      <th>0</th>\n",
       "      <td>4.0</td>\n",
       "      <td>0</td>\n",
       "      <td>4.0</td>\n",
       "      <td>6.0</td>\n",
       "      <td>0</td>\n",
       "      <td>13.0</td>\n",
       "      <td>5.0</td>\n",
       "      <td>Extrovert</td>\n",
       "    </tr>\n",
       "    <tr>\n",
       "      <th>1</th>\n",
       "      <td>9.0</td>\n",
       "      <td>1</td>\n",
       "      <td>0.0</td>\n",
       "      <td>0.0</td>\n",
       "      <td>1</td>\n",
       "      <td>0.0</td>\n",
       "      <td>3.0</td>\n",
       "      <td>Introvert</td>\n",
       "    </tr>\n",
       "    <tr>\n",
       "      <th>2</th>\n",
       "      <td>9.0</td>\n",
       "      <td>1</td>\n",
       "      <td>1.0</td>\n",
       "      <td>2.0</td>\n",
       "      <td>1</td>\n",
       "      <td>5.0</td>\n",
       "      <td>2.0</td>\n",
       "      <td>Introvert</td>\n",
       "    </tr>\n",
       "    <tr>\n",
       "      <th>3</th>\n",
       "      <td>0.0</td>\n",
       "      <td>0</td>\n",
       "      <td>6.0</td>\n",
       "      <td>7.0</td>\n",
       "      <td>0</td>\n",
       "      <td>14.0</td>\n",
       "      <td>8.0</td>\n",
       "      <td>Extrovert</td>\n",
       "    </tr>\n",
       "    <tr>\n",
       "      <th>4</th>\n",
       "      <td>3.0</td>\n",
       "      <td>0</td>\n",
       "      <td>9.0</td>\n",
       "      <td>4.0</td>\n",
       "      <td>0</td>\n",
       "      <td>8.0</td>\n",
       "      <td>5.0</td>\n",
       "      <td>Extrovert</td>\n",
       "    </tr>\n",
       "    <tr>\n",
       "      <th>5</th>\n",
       "      <td>1.0</td>\n",
       "      <td>0</td>\n",
       "      <td>7.0</td>\n",
       "      <td>5.0</td>\n",
       "      <td>0</td>\n",
       "      <td>6.0</td>\n",
       "      <td>6.0</td>\n",
       "      <td>Extrovert</td>\n",
       "    </tr>\n",
       "    <tr>\n",
       "      <th>6</th>\n",
       "      <td>4.0</td>\n",
       "      <td>0</td>\n",
       "      <td>9.0</td>\n",
       "      <td>3.0</td>\n",
       "      <td>0</td>\n",
       "      <td>7.0</td>\n",
       "      <td>7.0</td>\n",
       "      <td>Extrovert</td>\n",
       "    </tr>\n",
       "    <tr>\n",
       "      <th>7</th>\n",
       "      <td>2.0</td>\n",
       "      <td>0</td>\n",
       "      <td>8.0</td>\n",
       "      <td>4.0</td>\n",
       "      <td>0</td>\n",
       "      <td>7.0</td>\n",
       "      <td>8.0</td>\n",
       "      <td>Extrovert</td>\n",
       "    </tr>\n",
       "    <tr>\n",
       "      <th>8</th>\n",
       "      <td>10.0</td>\n",
       "      <td>1</td>\n",
       "      <td>1.0</td>\n",
       "      <td>3.0</td>\n",
       "      <td>1</td>\n",
       "      <td>0.0</td>\n",
       "      <td>3.0</td>\n",
       "      <td>Introvert</td>\n",
       "    </tr>\n",
       "    <tr>\n",
       "      <th>9</th>\n",
       "      <td>0.0</td>\n",
       "      <td>0</td>\n",
       "      <td>8.0</td>\n",
       "      <td>6.0</td>\n",
       "      <td>0</td>\n",
       "      <td>13.0</td>\n",
       "      <td>8.0</td>\n",
       "      <td>Extrovert</td>\n",
       "    </tr>\n",
       "  </tbody>\n",
       "</table>\n",
       "</div>"
      ],
      "text/plain": [
       "   Time_spent_Alone  Stage_fear  Social_event_attendance  Going_outside  \\\n",
       "0               4.0           0                      4.0            6.0   \n",
       "1               9.0           1                      0.0            0.0   \n",
       "2               9.0           1                      1.0            2.0   \n",
       "3               0.0           0                      6.0            7.0   \n",
       "4               3.0           0                      9.0            4.0   \n",
       "5               1.0           0                      7.0            5.0   \n",
       "6               4.0           0                      9.0            3.0   \n",
       "7               2.0           0                      8.0            4.0   \n",
       "8              10.0           1                      1.0            3.0   \n",
       "9               0.0           0                      8.0            6.0   \n",
       "\n",
       "   Drained_after_socializing  Friends_circle_size  Post_frequency Personality  \n",
       "0                          0                 13.0             5.0   Extrovert  \n",
       "1                          1                  0.0             3.0   Introvert  \n",
       "2                          1                  5.0             2.0   Introvert  \n",
       "3                          0                 14.0             8.0   Extrovert  \n",
       "4                          0                  8.0             5.0   Extrovert  \n",
       "5                          0                  6.0             6.0   Extrovert  \n",
       "6                          0                  7.0             7.0   Extrovert  \n",
       "7                          0                  7.0             8.0   Extrovert  \n",
       "8                          1                  0.0             3.0   Introvert  \n",
       "9                          0                 13.0             8.0   Extrovert  "
      ]
     },
     "execution_count": 10,
     "metadata": {},
     "output_type": "execute_result"
    }
   ],
   "source": [
    "df.head(10)"
   ]
  },
  {
   "cell_type": "code",
   "execution_count": 7,
   "id": "a1247147",
   "metadata": {},
   "outputs": [],
   "source": [
    "df_train, df_test = train_test_split(df, test_size=0.2, stratify=df['Personality'], random_state=42 )"
   ]
  },
  {
   "cell_type": "code",
   "execution_count": 12,
   "id": "da5361e7",
   "metadata": {},
   "outputs": [
    {
     "data": {
      "text/plain": [
       "(2320, 8)"
      ]
     },
     "execution_count": 12,
     "metadata": {},
     "output_type": "execute_result"
    }
   ],
   "source": [
    "df_train.shape"
   ]
  },
  {
   "cell_type": "code",
   "execution_count": 13,
   "id": "980d24eb",
   "metadata": {},
   "outputs": [
    {
     "data": {
      "text/plain": [
       "(580, 8)"
      ]
     },
     "execution_count": 13,
     "metadata": {},
     "output_type": "execute_result"
    }
   ],
   "source": [
    "df_test.shape"
   ]
  },
  {
   "cell_type": "code",
   "execution_count": 14,
   "id": "1c9e403e",
   "metadata": {},
   "outputs": [],
   "source": [
    "X_train = df_train.drop(columns='Personality',axis=1)\n",
    "X_test = df_test.drop(columns='Personality',axis=1)\n",
    "y_test = df_test['Personality']\n",
    "y_train = df_train['Personality']"
   ]
  },
  {
   "cell_type": "code",
   "execution_count": 15,
   "id": "04fe8844",
   "metadata": {},
   "outputs": [],
   "source": [
    "model_dt = DecisionTreeClassifier(random_state=42)"
   ]
  },
  {
   "cell_type": "code",
   "execution_count": 16,
   "id": "1217e9e8",
   "metadata": {},
   "outputs": [
    {
     "data": {
      "text/html": [
       "<style>#sk-container-id-1 {color: black;background-color: white;}#sk-container-id-1 pre{padding: 0;}#sk-container-id-1 div.sk-toggleable {background-color: white;}#sk-container-id-1 label.sk-toggleable__label {cursor: pointer;display: block;width: 100%;margin-bottom: 0;padding: 0.3em;box-sizing: border-box;text-align: center;}#sk-container-id-1 label.sk-toggleable__label-arrow:before {content: \"▸\";float: left;margin-right: 0.25em;color: #696969;}#sk-container-id-1 label.sk-toggleable__label-arrow:hover:before {color: black;}#sk-container-id-1 div.sk-estimator:hover label.sk-toggleable__label-arrow:before {color: black;}#sk-container-id-1 div.sk-toggleable__content {max-height: 0;max-width: 0;overflow: hidden;text-align: left;background-color: #f0f8ff;}#sk-container-id-1 div.sk-toggleable__content pre {margin: 0.2em;color: black;border-radius: 0.25em;background-color: #f0f8ff;}#sk-container-id-1 input.sk-toggleable__control:checked~div.sk-toggleable__content {max-height: 200px;max-width: 100%;overflow: auto;}#sk-container-id-1 input.sk-toggleable__control:checked~label.sk-toggleable__label-arrow:before {content: \"▾\";}#sk-container-id-1 div.sk-estimator input.sk-toggleable__control:checked~label.sk-toggleable__label {background-color: #d4ebff;}#sk-container-id-1 div.sk-label input.sk-toggleable__control:checked~label.sk-toggleable__label {background-color: #d4ebff;}#sk-container-id-1 input.sk-hidden--visually {border: 0;clip: rect(1px 1px 1px 1px);clip: rect(1px, 1px, 1px, 1px);height: 1px;margin: -1px;overflow: hidden;padding: 0;position: absolute;width: 1px;}#sk-container-id-1 div.sk-estimator {font-family: monospace;background-color: #f0f8ff;border: 1px dotted black;border-radius: 0.25em;box-sizing: border-box;margin-bottom: 0.5em;}#sk-container-id-1 div.sk-estimator:hover {background-color: #d4ebff;}#sk-container-id-1 div.sk-parallel-item::after {content: \"\";width: 100%;border-bottom: 1px solid gray;flex-grow: 1;}#sk-container-id-1 div.sk-label:hover label.sk-toggleable__label {background-color: #d4ebff;}#sk-container-id-1 div.sk-serial::before {content: \"\";position: absolute;border-left: 1px solid gray;box-sizing: border-box;top: 0;bottom: 0;left: 50%;z-index: 0;}#sk-container-id-1 div.sk-serial {display: flex;flex-direction: column;align-items: center;background-color: white;padding-right: 0.2em;padding-left: 0.2em;position: relative;}#sk-container-id-1 div.sk-item {position: relative;z-index: 1;}#sk-container-id-1 div.sk-parallel {display: flex;align-items: stretch;justify-content: center;background-color: white;position: relative;}#sk-container-id-1 div.sk-item::before, #sk-container-id-1 div.sk-parallel-item::before {content: \"\";position: absolute;border-left: 1px solid gray;box-sizing: border-box;top: 0;bottom: 0;left: 50%;z-index: -1;}#sk-container-id-1 div.sk-parallel-item {display: flex;flex-direction: column;z-index: 1;position: relative;background-color: white;}#sk-container-id-1 div.sk-parallel-item:first-child::after {align-self: flex-end;width: 50%;}#sk-container-id-1 div.sk-parallel-item:last-child::after {align-self: flex-start;width: 50%;}#sk-container-id-1 div.sk-parallel-item:only-child::after {width: 0;}#sk-container-id-1 div.sk-dashed-wrapped {border: 1px dashed gray;margin: 0 0.4em 0.5em 0.4em;box-sizing: border-box;padding-bottom: 0.4em;background-color: white;}#sk-container-id-1 div.sk-label label {font-family: monospace;font-weight: bold;display: inline-block;line-height: 1.2em;}#sk-container-id-1 div.sk-label-container {text-align: center;}#sk-container-id-1 div.sk-container {/* jupyter's `normalize.less` sets `[hidden] { display: none; }` but bootstrap.min.css set `[hidden] { display: none !important; }` so we also need the `!important` here to be able to override the default hidden behavior on the sphinx rendered scikit-learn.org. See: https://github.com/scikit-learn/scikit-learn/issues/21755 */display: inline-block !important;position: relative;}#sk-container-id-1 div.sk-text-repr-fallback {display: none;}</style><div id=\"sk-container-id-1\" class=\"sk-top-container\"><div class=\"sk-text-repr-fallback\"><pre>DecisionTreeClassifier(random_state=42)</pre><b>In a Jupyter environment, please rerun this cell to show the HTML representation or trust the notebook. <br />On GitHub, the HTML representation is unable to render, please try loading this page with nbviewer.org.</b></div><div class=\"sk-container\" hidden><div class=\"sk-item\"><div class=\"sk-estimator sk-toggleable\"><input class=\"sk-toggleable__control sk-hidden--visually\" id=\"sk-estimator-id-1\" type=\"checkbox\" checked><label for=\"sk-estimator-id-1\" class=\"sk-toggleable__label sk-toggleable__label-arrow\">DecisionTreeClassifier</label><div class=\"sk-toggleable__content\"><pre>DecisionTreeClassifier(random_state=42)</pre></div></div></div></div></div>"
      ],
      "text/plain": [
       "DecisionTreeClassifier(random_state=42)"
      ]
     },
     "execution_count": 16,
     "metadata": {},
     "output_type": "execute_result"
    }
   ],
   "source": [
    "model_dt.fit(X_train,y_train)"
   ]
  },
  {
   "cell_type": "code",
   "execution_count": 17,
   "id": "933e50ce",
   "metadata": {},
   "outputs": [],
   "source": [
    "y_pred = model_dt.predict(X_test)"
   ]
  },
  {
   "cell_type": "code",
   "execution_count": 18,
   "id": "477419d1",
   "metadata": {},
   "outputs": [
    {
     "data": {
      "text/plain": [
       "array(['Introvert', 'Extrovert', 'Introvert', 'Extrovert', 'Extrovert',\n",
       "       'Extrovert', 'Extrovert', 'Introvert', 'Extrovert', 'Introvert',\n",
       "       'Extrovert', 'Extrovert', 'Extrovert', 'Extrovert', 'Introvert',\n",
       "       'Extrovert', 'Extrovert', 'Extrovert', 'Introvert', 'Introvert',\n",
       "       'Introvert', 'Extrovert', 'Extrovert', 'Introvert', 'Introvert',\n",
       "       'Introvert', 'Introvert', 'Extrovert', 'Extrovert', 'Extrovert',\n",
       "       'Extrovert', 'Extrovert', 'Introvert', 'Introvert', 'Extrovert',\n",
       "       'Extrovert', 'Extrovert', 'Extrovert', 'Extrovert', 'Extrovert',\n",
       "       'Introvert', 'Extrovert', 'Introvert', 'Introvert', 'Introvert',\n",
       "       'Extrovert', 'Extrovert', 'Extrovert', 'Introvert', 'Introvert',\n",
       "       'Introvert', 'Introvert', 'Extrovert', 'Introvert', 'Introvert',\n",
       "       'Extrovert', 'Introvert', 'Extrovert', 'Extrovert', 'Introvert',\n",
       "       'Introvert', 'Introvert', 'Introvert', 'Extrovert', 'Extrovert',\n",
       "       'Introvert', 'Introvert', 'Introvert', 'Introvert', 'Extrovert',\n",
       "       'Introvert', 'Introvert', 'Introvert', 'Introvert', 'Introvert',\n",
       "       'Introvert', 'Extrovert', 'Extrovert', 'Introvert', 'Introvert',\n",
       "       'Extrovert', 'Extrovert', 'Introvert', 'Extrovert', 'Introvert',\n",
       "       'Introvert', 'Extrovert', 'Extrovert', 'Introvert', 'Introvert',\n",
       "       'Extrovert', 'Introvert', 'Extrovert', 'Extrovert', 'Extrovert',\n",
       "       'Introvert', 'Extrovert', 'Introvert', 'Introvert', 'Extrovert',\n",
       "       'Introvert', 'Extrovert', 'Introvert', 'Introvert', 'Introvert',\n",
       "       'Extrovert', 'Introvert', 'Introvert', 'Extrovert', 'Introvert',\n",
       "       'Introvert', 'Introvert', 'Introvert', 'Extrovert', 'Introvert',\n",
       "       'Introvert', 'Extrovert', 'Extrovert', 'Introvert', 'Extrovert',\n",
       "       'Extrovert', 'Introvert', 'Introvert', 'Extrovert', 'Extrovert',\n",
       "       'Introvert', 'Introvert', 'Introvert', 'Introvert', 'Extrovert',\n",
       "       'Extrovert', 'Extrovert', 'Extrovert', 'Introvert', 'Introvert',\n",
       "       'Extrovert', 'Extrovert', 'Extrovert', 'Introvert', 'Extrovert',\n",
       "       'Extrovert', 'Extrovert', 'Extrovert', 'Introvert', 'Introvert',\n",
       "       'Extrovert', 'Introvert', 'Introvert', 'Introvert', 'Introvert',\n",
       "       'Introvert', 'Introvert', 'Introvert', 'Extrovert', 'Extrovert',\n",
       "       'Extrovert', 'Extrovert', 'Introvert', 'Extrovert', 'Extrovert',\n",
       "       'Extrovert', 'Extrovert', 'Extrovert', 'Extrovert', 'Extrovert',\n",
       "       'Extrovert', 'Introvert', 'Introvert', 'Introvert', 'Introvert',\n",
       "       'Extrovert', 'Extrovert', 'Extrovert', 'Introvert', 'Introvert',\n",
       "       'Introvert', 'Extrovert', 'Extrovert', 'Introvert', 'Extrovert',\n",
       "       'Introvert', 'Extrovert', 'Extrovert', 'Introvert', 'Introvert',\n",
       "       'Extrovert', 'Extrovert', 'Introvert', 'Extrovert', 'Extrovert',\n",
       "       'Extrovert', 'Extrovert', 'Extrovert', 'Introvert', 'Introvert',\n",
       "       'Extrovert', 'Extrovert', 'Extrovert', 'Introvert', 'Extrovert',\n",
       "       'Extrovert', 'Introvert', 'Introvert', 'Extrovert', 'Introvert',\n",
       "       'Introvert', 'Extrovert', 'Introvert', 'Introvert', 'Introvert',\n",
       "       'Extrovert', 'Introvert', 'Introvert', 'Introvert', 'Extrovert',\n",
       "       'Extrovert', 'Extrovert', 'Extrovert', 'Extrovert', 'Introvert',\n",
       "       'Introvert', 'Introvert', 'Extrovert', 'Extrovert', 'Introvert',\n",
       "       'Introvert', 'Extrovert', 'Extrovert', 'Extrovert', 'Extrovert',\n",
       "       'Introvert', 'Introvert', 'Introvert', 'Extrovert', 'Introvert',\n",
       "       'Extrovert', 'Extrovert', 'Extrovert', 'Introvert', 'Introvert',\n",
       "       'Extrovert', 'Introvert', 'Introvert', 'Extrovert', 'Introvert',\n",
       "       'Introvert', 'Introvert', 'Extrovert', 'Introvert', 'Introvert',\n",
       "       'Introvert', 'Extrovert', 'Introvert', 'Extrovert', 'Extrovert',\n",
       "       'Extrovert', 'Introvert', 'Extrovert', 'Extrovert', 'Extrovert',\n",
       "       'Introvert', 'Introvert', 'Introvert', 'Introvert', 'Introvert',\n",
       "       'Introvert', 'Introvert', 'Introvert', 'Extrovert', 'Introvert',\n",
       "       'Extrovert', 'Extrovert', 'Introvert', 'Introvert', 'Introvert',\n",
       "       'Extrovert', 'Extrovert', 'Extrovert', 'Extrovert', 'Introvert',\n",
       "       'Extrovert', 'Introvert', 'Extrovert', 'Extrovert', 'Introvert',\n",
       "       'Extrovert', 'Introvert', 'Introvert', 'Extrovert', 'Introvert',\n",
       "       'Extrovert', 'Extrovert', 'Introvert', 'Extrovert', 'Extrovert',\n",
       "       'Extrovert', 'Introvert', 'Introvert', 'Extrovert', 'Introvert',\n",
       "       'Extrovert', 'Extrovert', 'Introvert', 'Extrovert', 'Introvert',\n",
       "       'Extrovert', 'Introvert', 'Extrovert', 'Introvert', 'Introvert',\n",
       "       'Extrovert', 'Introvert', 'Introvert', 'Extrovert', 'Extrovert',\n",
       "       'Introvert', 'Extrovert', 'Introvert', 'Introvert', 'Extrovert',\n",
       "       'Introvert', 'Extrovert', 'Extrovert', 'Introvert', 'Extrovert',\n",
       "       'Introvert', 'Introvert', 'Introvert', 'Extrovert', 'Introvert',\n",
       "       'Introvert', 'Introvert', 'Introvert', 'Extrovert', 'Introvert',\n",
       "       'Introvert', 'Extrovert', 'Extrovert', 'Introvert', 'Extrovert',\n",
       "       'Introvert', 'Extrovert', 'Introvert', 'Extrovert', 'Extrovert',\n",
       "       'Extrovert', 'Extrovert', 'Extrovert', 'Introvert', 'Introvert',\n",
       "       'Introvert', 'Extrovert', 'Introvert', 'Introvert', 'Introvert',\n",
       "       'Extrovert', 'Introvert', 'Introvert', 'Extrovert', 'Introvert',\n",
       "       'Introvert', 'Introvert', 'Introvert', 'Extrovert', 'Introvert',\n",
       "       'Extrovert', 'Extrovert', 'Introvert', 'Introvert', 'Extrovert',\n",
       "       'Extrovert', 'Introvert', 'Introvert', 'Extrovert', 'Introvert',\n",
       "       'Extrovert', 'Extrovert', 'Introvert', 'Extrovert', 'Extrovert',\n",
       "       'Extrovert', 'Extrovert', 'Introvert', 'Introvert', 'Introvert',\n",
       "       'Introvert', 'Introvert', 'Extrovert', 'Extrovert', 'Introvert',\n",
       "       'Introvert', 'Introvert', 'Extrovert', 'Extrovert', 'Introvert',\n",
       "       'Introvert', 'Extrovert', 'Extrovert', 'Introvert', 'Introvert',\n",
       "       'Extrovert', 'Extrovert', 'Introvert', 'Extrovert', 'Introvert',\n",
       "       'Introvert', 'Introvert', 'Introvert', 'Extrovert', 'Extrovert',\n",
       "       'Extrovert', 'Extrovert', 'Extrovert', 'Extrovert', 'Extrovert',\n",
       "       'Introvert', 'Introvert', 'Introvert', 'Introvert', 'Introvert',\n",
       "       'Extrovert', 'Introvert', 'Extrovert', 'Extrovert', 'Extrovert',\n",
       "       'Introvert', 'Extrovert', 'Introvert', 'Introvert', 'Introvert',\n",
       "       'Introvert', 'Extrovert', 'Introvert', 'Extrovert', 'Extrovert',\n",
       "       'Extrovert', 'Introvert', 'Extrovert', 'Extrovert', 'Introvert',\n",
       "       'Extrovert', 'Introvert', 'Extrovert', 'Introvert', 'Extrovert',\n",
       "       'Extrovert', 'Extrovert', 'Extrovert', 'Extrovert', 'Extrovert',\n",
       "       'Extrovert', 'Introvert', 'Extrovert', 'Extrovert', 'Extrovert',\n",
       "       'Extrovert', 'Introvert', 'Extrovert', 'Extrovert', 'Extrovert',\n",
       "       'Extrovert', 'Introvert', 'Extrovert', 'Introvert', 'Introvert',\n",
       "       'Extrovert', 'Introvert', 'Introvert', 'Introvert', 'Introvert',\n",
       "       'Introvert', 'Introvert', 'Introvert', 'Introvert', 'Introvert',\n",
       "       'Introvert', 'Introvert', 'Introvert', 'Introvert', 'Introvert',\n",
       "       'Extrovert', 'Extrovert', 'Extrovert', 'Extrovert', 'Introvert',\n",
       "       'Extrovert', 'Introvert', 'Introvert', 'Extrovert', 'Introvert',\n",
       "       'Introvert', 'Extrovert', 'Introvert', 'Introvert', 'Extrovert',\n",
       "       'Extrovert', 'Extrovert', 'Introvert', 'Introvert', 'Introvert',\n",
       "       'Introvert', 'Introvert', 'Introvert', 'Extrovert', 'Extrovert',\n",
       "       'Introvert', 'Extrovert', 'Extrovert', 'Introvert', 'Introvert',\n",
       "       'Introvert', 'Introvert', 'Extrovert', 'Extrovert', 'Introvert',\n",
       "       'Introvert', 'Extrovert', 'Extrovert', 'Extrovert', 'Introvert',\n",
       "       'Introvert', 'Introvert', 'Extrovert', 'Extrovert', 'Extrovert',\n",
       "       'Extrovert', 'Extrovert', 'Extrovert', 'Extrovert', 'Introvert',\n",
       "       'Introvert', 'Extrovert', 'Extrovert', 'Extrovert', 'Introvert',\n",
       "       'Extrovert', 'Extrovert', 'Extrovert', 'Extrovert', 'Introvert',\n",
       "       'Extrovert', 'Introvert', 'Introvert', 'Extrovert', 'Introvert',\n",
       "       'Introvert', 'Extrovert', 'Introvert', 'Extrovert', 'Extrovert',\n",
       "       'Introvert', 'Introvert', 'Extrovert', 'Extrovert', 'Introvert',\n",
       "       'Introvert', 'Extrovert', 'Introvert', 'Introvert', 'Extrovert',\n",
       "       'Extrovert', 'Extrovert', 'Introvert', 'Introvert', 'Introvert',\n",
       "       'Extrovert', 'Extrovert', 'Extrovert', 'Extrovert', 'Extrovert',\n",
       "       'Extrovert', 'Extrovert', 'Extrovert', 'Introvert', 'Extrovert',\n",
       "       'Introvert', 'Introvert', 'Extrovert', 'Extrovert', 'Introvert'],\n",
       "      dtype=object)"
      ]
     },
     "execution_count": 18,
     "metadata": {},
     "output_type": "execute_result"
    }
   ],
   "source": [
    "y_pred"
   ]
  },
  {
   "cell_type": "code",
   "execution_count": 19,
   "id": "e4d39f0c",
   "metadata": {},
   "outputs": [
    {
     "name": "stdout",
     "output_type": "stream",
     "text": [
      "              precision    recall  f1-score   support\n",
      "\n",
      "   Extrovert       0.87      0.85      0.86       298\n",
      "   Introvert       0.84      0.87      0.86       282\n",
      "\n",
      "    accuracy                           0.86       580\n",
      "   macro avg       0.86      0.86      0.86       580\n",
      "weighted avg       0.86      0.86      0.86       580\n",
      "\n"
     ]
    }
   ],
   "source": [
    "print(classification_report(y_test,y_pred))"
   ]
  },
  {
   "cell_type": "code",
   "execution_count": 20,
   "id": "66e1b10e",
   "metadata": {},
   "outputs": [],
   "source": [
    "y_pred_train= model_dt.predict(X_train)"
   ]
  },
  {
   "cell_type": "code",
   "execution_count": 21,
   "id": "266df0ee",
   "metadata": {},
   "outputs": [
    {
     "name": "stdout",
     "output_type": "stream",
     "text": [
      "              precision    recall  f1-score   support\n",
      "\n",
      "   Extrovert       0.98      0.99      0.99      1193\n",
      "   Introvert       0.99      0.98      0.98      1127\n",
      "\n",
      "    accuracy                           0.98      2320\n",
      "   macro avg       0.99      0.98      0.98      2320\n",
      "weighted avg       0.98      0.98      0.98      2320\n",
      "\n"
     ]
    }
   ],
   "source": [
    "print(classification_report(y_train,y_pred_train))"
   ]
  },
  {
   "cell_type": "code",
   "execution_count": 46,
   "id": "788c5994",
   "metadata": {},
   "outputs": [
    {
     "data": {
      "text/html": [
       "<style>#sk-container-id-7 {color: black;background-color: white;}#sk-container-id-7 pre{padding: 0;}#sk-container-id-7 div.sk-toggleable {background-color: white;}#sk-container-id-7 label.sk-toggleable__label {cursor: pointer;display: block;width: 100%;margin-bottom: 0;padding: 0.3em;box-sizing: border-box;text-align: center;}#sk-container-id-7 label.sk-toggleable__label-arrow:before {content: \"▸\";float: left;margin-right: 0.25em;color: #696969;}#sk-container-id-7 label.sk-toggleable__label-arrow:hover:before {color: black;}#sk-container-id-7 div.sk-estimator:hover label.sk-toggleable__label-arrow:before {color: black;}#sk-container-id-7 div.sk-toggleable__content {max-height: 0;max-width: 0;overflow: hidden;text-align: left;background-color: #f0f8ff;}#sk-container-id-7 div.sk-toggleable__content pre {margin: 0.2em;color: black;border-radius: 0.25em;background-color: #f0f8ff;}#sk-container-id-7 input.sk-toggleable__control:checked~div.sk-toggleable__content {max-height: 200px;max-width: 100%;overflow: auto;}#sk-container-id-7 input.sk-toggleable__control:checked~label.sk-toggleable__label-arrow:before {content: \"▾\";}#sk-container-id-7 div.sk-estimator input.sk-toggleable__control:checked~label.sk-toggleable__label {background-color: #d4ebff;}#sk-container-id-7 div.sk-label input.sk-toggleable__control:checked~label.sk-toggleable__label {background-color: #d4ebff;}#sk-container-id-7 input.sk-hidden--visually {border: 0;clip: rect(1px 1px 1px 1px);clip: rect(1px, 1px, 1px, 1px);height: 1px;margin: -1px;overflow: hidden;padding: 0;position: absolute;width: 1px;}#sk-container-id-7 div.sk-estimator {font-family: monospace;background-color: #f0f8ff;border: 1px dotted black;border-radius: 0.25em;box-sizing: border-box;margin-bottom: 0.5em;}#sk-container-id-7 div.sk-estimator:hover {background-color: #d4ebff;}#sk-container-id-7 div.sk-parallel-item::after {content: \"\";width: 100%;border-bottom: 1px solid gray;flex-grow: 1;}#sk-container-id-7 div.sk-label:hover label.sk-toggleable__label {background-color: #d4ebff;}#sk-container-id-7 div.sk-serial::before {content: \"\";position: absolute;border-left: 1px solid gray;box-sizing: border-box;top: 0;bottom: 0;left: 50%;z-index: 0;}#sk-container-id-7 div.sk-serial {display: flex;flex-direction: column;align-items: center;background-color: white;padding-right: 0.2em;padding-left: 0.2em;position: relative;}#sk-container-id-7 div.sk-item {position: relative;z-index: 1;}#sk-container-id-7 div.sk-parallel {display: flex;align-items: stretch;justify-content: center;background-color: white;position: relative;}#sk-container-id-7 div.sk-item::before, #sk-container-id-7 div.sk-parallel-item::before {content: \"\";position: absolute;border-left: 1px solid gray;box-sizing: border-box;top: 0;bottom: 0;left: 50%;z-index: -1;}#sk-container-id-7 div.sk-parallel-item {display: flex;flex-direction: column;z-index: 1;position: relative;background-color: white;}#sk-container-id-7 div.sk-parallel-item:first-child::after {align-self: flex-end;width: 50%;}#sk-container-id-7 div.sk-parallel-item:last-child::after {align-self: flex-start;width: 50%;}#sk-container-id-7 div.sk-parallel-item:only-child::after {width: 0;}#sk-container-id-7 div.sk-dashed-wrapped {border: 1px dashed gray;margin: 0 0.4em 0.5em 0.4em;box-sizing: border-box;padding-bottom: 0.4em;background-color: white;}#sk-container-id-7 div.sk-label label {font-family: monospace;font-weight: bold;display: inline-block;line-height: 1.2em;}#sk-container-id-7 div.sk-label-container {text-align: center;}#sk-container-id-7 div.sk-container {/* jupyter's `normalize.less` sets `[hidden] { display: none; }` but bootstrap.min.css set `[hidden] { display: none !important; }` so we also need the `!important` here to be able to override the default hidden behavior on the sphinx rendered scikit-learn.org. See: https://github.com/scikit-learn/scikit-learn/issues/21755 */display: inline-block !important;position: relative;}#sk-container-id-7 div.sk-text-repr-fallback {display: none;}</style><div id=\"sk-container-id-7\" class=\"sk-top-container\"><div class=\"sk-text-repr-fallback\"><pre>DecisionTreeClassifier(criterion=&#x27;entropy&#x27;, max_depth=3, max_features=&#x27;sqrt&#x27;,\n",
       "                       min_samples_leaf=90, min_samples_split=100,\n",
       "                       random_state=42)</pre><b>In a Jupyter environment, please rerun this cell to show the HTML representation or trust the notebook. <br />On GitHub, the HTML representation is unable to render, please try loading this page with nbviewer.org.</b></div><div class=\"sk-container\" hidden><div class=\"sk-item\"><div class=\"sk-estimator sk-toggleable\"><input class=\"sk-toggleable__control sk-hidden--visually\" id=\"sk-estimator-id-7\" type=\"checkbox\" checked><label for=\"sk-estimator-id-7\" class=\"sk-toggleable__label sk-toggleable__label-arrow\">DecisionTreeClassifier</label><div class=\"sk-toggleable__content\"><pre>DecisionTreeClassifier(criterion=&#x27;entropy&#x27;, max_depth=3, max_features=&#x27;sqrt&#x27;,\n",
       "                       min_samples_leaf=90, min_samples_split=100,\n",
       "                       random_state=42)</pre></div></div></div></div></div>"
      ],
      "text/plain": [
       "DecisionTreeClassifier(criterion='entropy', max_depth=3, max_features='sqrt',\n",
       "                       min_samples_leaf=90, min_samples_split=100,\n",
       "                       random_state=42)"
      ]
     },
     "execution_count": 46,
     "metadata": {},
     "output_type": "execute_result"
    }
   ],
   "source": [
    "clf = DecisionTreeClassifier(\n",
    "    criterion='entropy',           # hoặc 'entropy' nếu bạn muốn thử mức độ phân chia tốt hơn\n",
    "    max_depth=3,                # giới hạn độ sâu để tránh cây quá phức tạp\n",
    "    min_samples_split=100,       # node phải có ít nhất 20 mẫu mới được chia tiếp\n",
    "    min_samples_leaf=90,        # mỗi lá cuối cùng phải có ít nhất 10 mẫu\n",
    "    max_features='sqrt',        # dùng căn bậc 2 số feature → giảm overfit\n",
    "    random_state=42             # để kết quả tái lập được\n",
    ")\n",
    "clf.fit(X_train,y_train)\n"
   ]
  },
  {
   "cell_type": "code",
   "execution_count": 47,
   "id": "2c4a8fde",
   "metadata": {},
   "outputs": [],
   "source": [
    "y_pred = model_dt.predict(X_test)\n",
    "y_pred_train= model_dt.predict(X_train)"
   ]
  },
  {
   "cell_type": "code",
   "execution_count": 48,
   "id": "960dd938",
   "metadata": {},
   "outputs": [
    {
     "name": "stdout",
     "output_type": "stream",
     "text": [
      "              precision    recall  f1-score   support\n",
      "\n",
      "   Extrovert       0.87      0.85      0.86       298\n",
      "   Introvert       0.84      0.87      0.86       282\n",
      "\n",
      "    accuracy                           0.86       580\n",
      "   macro avg       0.86      0.86      0.86       580\n",
      "weighted avg       0.86      0.86      0.86       580\n",
      "\n"
     ]
    }
   ],
   "source": [
    "print(classification_report(y_test,y_pred))"
   ]
  },
  {
   "cell_type": "code",
   "execution_count": 49,
   "id": "ab36c7b7",
   "metadata": {},
   "outputs": [
    {
     "name": "stdout",
     "output_type": "stream",
     "text": [
      "              precision    recall  f1-score   support\n",
      "\n",
      "   Extrovert       0.98      0.99      0.99      1193\n",
      "   Introvert       0.99      0.98      0.98      1127\n",
      "\n",
      "    accuracy                           0.98      2320\n",
      "   macro avg       0.99      0.98      0.98      2320\n",
      "weighted avg       0.98      0.98      0.98      2320\n",
      "\n"
     ]
    }
   ],
   "source": [
    "print(classification_report(y_train,y_pred_train))"
   ]
  },
  {
   "cell_type": "code",
   "execution_count": 18,
   "id": "d48b5e01",
   "metadata": {},
   "outputs": [],
   "source": [
    "df_train,df_test = train_test_split(df, test_size=0.2, stratify=df['Personality'])\n",
    "X_train = df_train.drop(columns='Personality',axis=1)\n",
    "y_train = df_train['Personality']\n",
    "X_test = df_test.drop(columns='Personality',axis=1)\n",
    "y_test = df_test['Personality']\n"
   ]
  },
  {
   "cell_type": "code",
   "execution_count": 30,
   "id": "a9036cd5",
   "metadata": {},
   "outputs": [
    {
     "name": "stdout",
     "output_type": "stream",
     "text": [
      "              precision    recall  f1-score   support\n",
      "\n",
      "   Extrovert       0.87      0.93      0.90       298\n",
      "   Introvert       0.92      0.85      0.88       282\n",
      "\n",
      "    accuracy                           0.89       580\n",
      "   macro avg       0.89      0.89      0.89       580\n",
      "weighted avg       0.89      0.89      0.89       580\n",
      "\n"
     ]
    }
   ],
   "source": [
    "model_knn = KNeighborsClassifier(n_neighbors = 5, weights='distance',metric ='euclidean')\n",
    "model_knn.fit(X_train,y_train)\n",
    "y_pred_knn = model_knn.predict(X_test)\n",
    "print(classification_report(y_test,y_pred_knn))"
   ]
  },
  {
   "cell_type": "code",
   "execution_count": 40,
   "id": "03a938d2",
   "metadata": {},
   "outputs": [
    {
     "name": "stdout",
     "output_type": "stream",
     "text": [
      "              precision    recall  f1-score   support\n",
      "\n",
      "   Extrovert       0.92      0.92      0.92       298\n",
      "   Introvert       0.91      0.91      0.91       282\n",
      "\n",
      "    accuracy                           0.92       580\n",
      "   macro avg       0.92      0.92      0.92       580\n",
      "weighted avg       0.92      0.92      0.92       580\n",
      "\n"
     ]
    }
   ],
   "source": [
    "model_lr = LogisticRegression(penalty='elasticnet',C=0.1,solver='saga',l1_ratio=0.8,max_iter=1000,random_state=42)\n",
    "model_lr.fit(X_train,y_train)\n",
    "y_pred_lr = model_lr.predict(X_test)\n",
    "print(classification_report(y_test,y_pred_lr))"
   ]
  },
  {
   "cell_type": "code",
   "execution_count": 33,
   "id": "bd3b8c9f",
   "metadata": {},
   "outputs": [
    {
     "name": "stdout",
     "output_type": "stream",
     "text": [
      "              precision    recall  f1-score   support\n",
      "\n",
      "   Extrovert       0.94      0.93      0.93      1193\n",
      "   Introvert       0.92      0.94      0.93      1127\n",
      "\n",
      "    accuracy                           0.93      2320\n",
      "   macro avg       0.93      0.93      0.93      2320\n",
      "weighted avg       0.93      0.93      0.93      2320\n",
      "\n"
     ]
    }
   ],
   "source": [
    "y_pred_lr = model_lr.predict(X_train)\n",
    "print(classification_report(y_train,y_pred_lr))"
   ]
  },
  {
   "cell_type": "code",
   "execution_count": 41,
   "id": "b0a496b6",
   "metadata": {},
   "outputs": [
    {
     "data": {
      "text/plain": [
       "['model_lr.pkl']"
      ]
     },
     "execution_count": 41,
     "metadata": {},
     "output_type": "execute_result"
    }
   ],
   "source": [
    "joblib.dump(model_lr,'model_lr.pkl')"
   ]
  },
  {
   "cell_type": "code",
   "execution_count": null,
   "id": "9f16bda5",
   "metadata": {},
   "outputs": [],
   "source": []
  }
 ],
 "metadata": {
  "kernelspec": {
   "display_name": "Python 3 (ipykernel)",
   "language": "python",
   "name": "python3"
  },
  "language_info": {
   "codemirror_mode": {
    "name": "ipython",
    "version": 3
   },
   "file_extension": ".py",
   "mimetype": "text/x-python",
   "name": "python",
   "nbconvert_exporter": "python",
   "pygments_lexer": "ipython3",
   "version": "3.9.21"
  }
 },
 "nbformat": 4,
 "nbformat_minor": 5
}
